{
 "cells": [
  {
   "cell_type": "markdown",
   "id": "3d8bfb9d",
   "metadata": {},
   "source": [
    "# Day 0"
   ]
  },
  {
   "cell_type": "code",
   "execution_count": 1,
   "id": "8ba33b0b",
   "metadata": {},
   "outputs": [
    {
     "data": {
      "text/plain": [
       "defined \u001b[32mfunction\u001b[39m \u001b[36msum\u001b[39m\n",
       "\u001b[36mres0_1\u001b[39m: \u001b[32mInt\u001b[39m = \u001b[32m10\u001b[39m"
      ]
     },
     "execution_count": 1,
     "metadata": {},
     "output_type": "execute_result"
    }
   ],
   "source": [
    "def sum(xs: List[Int]): Int = xs.foldLeft(0) { _ + _ }\n",
    "sum(List(1, 2, 3, 4))"
   ]
  },
  {
   "cell_type": "markdown",
   "id": "036eeb8f",
   "metadata": {},
   "source": [
    "## Monoid 1"
   ]
  },
  {
   "cell_type": "code",
   "execution_count": 2,
   "id": "3d482f94",
   "metadata": {},
   "outputs": [
    {
     "data": {
      "text/plain": [
       "defined \u001b[32mobject\u001b[39m \u001b[36mIntMonoid\u001b[39m\n",
       "defined \u001b[32mfunction\u001b[39m \u001b[36msum\u001b[39m\n",
       "\u001b[36mres1_2\u001b[39m: \u001b[32mInt\u001b[39m = \u001b[32m10\u001b[39m"
      ]
     },
     "execution_count": 2,
     "metadata": {},
     "output_type": "execute_result"
    }
   ],
   "source": [
    "object IntMonoid {\n",
    "    def mappend(a: Int, b: Int): Int = a + b\n",
    "    def mzero: Int = 0\n",
    "}\n",
    "\n",
    "def sum(xs: List[Int]): Int = xs.foldLeft(IntMonoid.mzero)(IntMonoid.mappend)\n",
    "\n",
    "sum(List(1, 2, 3, 4))"
   ]
  },
  {
   "cell_type": "markdown",
   "id": "c40b735a",
   "metadata": {},
   "source": [
    "## Monoid 2"
   ]
  },
  {
   "cell_type": "code",
   "execution_count": 3,
   "id": "f834aa85",
   "metadata": {},
   "outputs": [
    {
     "data": {
      "text/plain": [
       "defined \u001b[32mtrait\u001b[39m \u001b[36mMonoid\u001b[39m\n",
       "defined \u001b[32mobject\u001b[39m \u001b[36mIntMonoid\u001b[39m\n",
       "defined \u001b[32mfunction\u001b[39m \u001b[36msum\u001b[39m\n",
       "\u001b[36mres2_3\u001b[39m: \u001b[32mInt\u001b[39m = \u001b[32m10\u001b[39m"
      ]
     },
     "execution_count": 3,
     "metadata": {},
     "output_type": "execute_result"
    }
   ],
   "source": [
    "trait Monoid[A] {\n",
    "    def mappend(a1: A, a2: A): A\n",
    "    def mzero: A\n",
    "}\n",
    "\n",
    "object IntMonoid extends Monoid[Int] {\n",
    "    def mappend(a: Int, b: Int): Int = a + b\n",
    "    def mzero: Int = 0\n",
    "}\n",
    "\n",
    "def sum(xs: List[Int], m: Monoid[Int]): Int = xs.foldLeft(m.mzero)(m.mappend)\n",
    "\n",
    "sum(List(1, 2, 3, 4), IntMonoid)"
   ]
  },
  {
   "cell_type": "code",
   "execution_count": 4,
   "id": "cadb2907",
   "metadata": {},
   "outputs": [
    {
     "data": {
      "text/plain": [
       "defined \u001b[32mfunction\u001b[39m \u001b[36msum\u001b[39m\n",
       "\u001b[36mres3_1\u001b[39m: \u001b[32mInt\u001b[39m = \u001b[32m10\u001b[39m"
      ]
     },
     "execution_count": 4,
     "metadata": {},
     "output_type": "execute_result"
    }
   ],
   "source": [
    "def sum[A](xs: List[A], m: Monoid[A]): A = xs.foldLeft(m.mzero)(m.mappend)\n",
    "sum(List(1, 2, 3, 4), IntMonoid)"
   ]
  },
  {
   "cell_type": "markdown",
   "id": "91274c76",
   "metadata": {},
   "source": [
    "## Monoid 3"
   ]
  },
  {
   "cell_type": "code",
   "execution_count": 5,
   "id": "9341152f",
   "metadata": {},
   "outputs": [
    {
     "data": {
      "text/plain": [
       "defined \u001b[32mfunction\u001b[39m \u001b[36msum\u001b[39m\n",
       "\u001b[36mintMonoid\u001b[39m: \u001b[32mIntMonoid\u001b[39m.type = ammonite.$sess.cmd2$Helper$IntMonoid$@43613991\n",
       "\u001b[36mres4_2\u001b[39m: \u001b[32mInt\u001b[39m = \u001b[32m10\u001b[39m"
      ]
     },
     "execution_count": 5,
     "metadata": {},
     "output_type": "execute_result"
    }
   ],
   "source": [
    "def sum[A](xs: List[A])(implicit m: Monoid[A]): A = xs.foldLeft(m.mzero)(m.mappend)\n",
    "\n",
    "implicit val intMonoid = IntMonoid\n",
    "\n",
    "sum(List(1, 2, 3, 4))"
   ]
  },
  {
   "cell_type": "markdown",
   "id": "f53670c2",
   "metadata": {},
   "source": [
    "## Monoid 4"
   ]
  },
  {
   "cell_type": "code",
   "execution_count": 6,
   "id": "c953f4f2",
   "metadata": {},
   "outputs": [
    {
     "data": {
      "text/plain": [
       "defined \u001b[32mfunction\u001b[39m \u001b[36msum\u001b[39m\n",
       "\u001b[36mres5_1\u001b[39m: \u001b[32mInt\u001b[39m = \u001b[32m10\u001b[39m"
      ]
     },
     "execution_count": 6,
     "metadata": {},
     "output_type": "execute_result"
    }
   ],
   "source": [
    "// https://stackoverflow.com/questions/3855595/what-is-the-scala-identifier-implicitly\n",
    "def sum[A: Monoid](xs: List[A]): A = {\n",
    "    val m = implicitly[Monoid[A]]\n",
    "    xs.foldLeft(m.mzero)(m.mappend)\n",
    "}\n",
    "\n",
    "sum(List(1, 2, 3, 4))"
   ]
  },
  {
   "cell_type": "markdown",
   "id": "c7377dc1",
   "metadata": {},
   "source": [
    "## Monoid 5"
   ]
  },
  {
   "cell_type": "code",
   "execution_count": 7,
   "id": "8f90b03b",
   "metadata": {},
   "outputs": [
    {
     "data": {
      "text/plain": [
       "defined \u001b[32mfunction\u001b[39m \u001b[36msum\u001b[39m\n",
       "\u001b[36mres6_1\u001b[39m: \u001b[32mInt\u001b[39m = \u001b[32m10\u001b[39m"
      ]
     },
     "execution_count": 7,
     "metadata": {},
     "output_type": "execute_result"
    }
   ],
   "source": [
    "def sum[A: Monoid](xs: List[A]): A = {\n",
    "    val m = implicitly[Monoid[A]]\n",
    "    xs.foldLeft(m.mzero)(m.mappend)\n",
    "}\n",
    "\n",
    "sum(List(1, 2, 3, 4))"
   ]
  },
  {
   "cell_type": "markdown",
   "id": "28644198",
   "metadata": {},
   "source": [
    "## Monoid 5"
   ]
  },
  {
   "cell_type": "code",
   "execution_count": 8,
   "id": "8bf986c0",
   "metadata": {},
   "outputs": [
    {
     "data": {
      "text/plain": [
       "defined \u001b[32mtrait\u001b[39m \u001b[36mMonoid\u001b[39m\n",
       "defined \u001b[32mobject\u001b[39m \u001b[36mMonoid\u001b[39m\n",
       "defined \u001b[32mfunction\u001b[39m \u001b[36msum\u001b[39m\n",
       "\u001b[36mres7_3\u001b[39m: \u001b[32mString\u001b[39m = \u001b[32m\"abc\"\u001b[39m"
      ]
     },
     "execution_count": 8,
     "metadata": {},
     "output_type": "execute_result"
    }
   ],
   "source": [
    "trait Monoid[A] {\n",
    "    def mappend(a1: A, a2: A): A\n",
    "    def mzero: A\n",
    "}\n",
    "object Monoid {\n",
    "    implicit val IntMonoid: Monoid[Int] = new Monoid[Int] {\n",
    "        def mappend(a: Int, b: Int): Int = a + b\n",
    "        def mzero: Int = 0\n",
    "}\n",
    "    implicit val StringMonoid: Monoid[String] = new Monoid[String] {\n",
    "        def mappend(a: String, b: String): String = a + b\n",
    "        def mzero: String = \"\"\n",
    "}\n",
    "}\n",
    "def sum[A: Monoid](xs: List[A]): A = {\n",
    "    val m = implicitly[Monoid[A]]\n",
    "    xs.foldLeft(m.mzero)(m.mappend)\n",
    "}\n",
    "\n",
    "sum(List(\"a\", \"b\", \"c\"))"
   ]
  },
  {
   "cell_type": "markdown",
   "id": "020fea5b",
   "metadata": {},
   "source": [
    "# Monoid 6"
   ]
  },
  {
   "cell_type": "code",
   "execution_count": 28,
   "id": "234f6c32",
   "metadata": {},
   "outputs": [
    {
     "data": {
      "text/plain": [
       "defined \u001b[32mtrait\u001b[39m \u001b[36mMonoid\u001b[39m\n",
       "defined \u001b[32mobject\u001b[39m \u001b[36mMonoid\u001b[39m\n",
       "defined \u001b[32mobject\u001b[39m \u001b[36mFoldLeftList\u001b[39m\n",
       "defined \u001b[32mfunction\u001b[39m \u001b[36msum\u001b[39m"
      ]
     },
     "execution_count": 28,
     "metadata": {},
     "output_type": "execute_result"
    }
   ],
   "source": [
    "trait Monoid[A] {\n",
    "    def mappend(a1: A, a2: A): A\n",
    "    def mzero: A\n",
    "}\n",
    "\n",
    "object Monoid {\n",
    "    implicit val IntMonoid: Monoid[Int] = new Monoid[Int] {\n",
    "        def mappend(a: Int, b: Int): Int = a + b\n",
    "        def mzero: Int = 0\n",
    "}\n",
    "    implicit val StringMonoid: Monoid[String] = new Monoid[String] {\n",
    "        def mappend(a: String, b: String): String = a + b\n",
    "        def mzero: String = \"\"\n",
    "    }\n",
    "        \n",
    "    implicit val doubleMonoid: Monoid[Double] = new Monoid[Double] {\n",
    "        def mappend(a: Double, b: Double): Double = a + b\n",
    "        def mzero: Double = 0.0\n",
    "    }\n",
    "}\n",
    "\n",
    "object FoldLeftList {\n",
    "    def foldLeft[A, B](xs: List[A], b: B, f: (B, A) => B) = xs.foldLeft(b)(f)\n",
    "}\n",
    "\n",
    "def sum[A: Monoid](xs: List[A]): A = {\n",
    "    val m = implicitly[Monoid[A]]\n",
    "    FoldLeftList.foldLeft(xs, m.mzero, m.mappend)\n",
    "}"
   ]
  },
  {
   "cell_type": "code",
   "execution_count": 26,
   "id": "7bc4a363",
   "metadata": {},
   "outputs": [
    {
     "data": {
      "text/plain": [
       "\u001b[36mres25\u001b[39m: \u001b[32mInt\u001b[39m = \u001b[32m10\u001b[39m"
      ]
     },
     "execution_count": 26,
     "metadata": {},
     "output_type": "execute_result"
    }
   ],
   "source": [
    "sum(List(1, 2, 3, 4))"
   ]
  },
  {
   "cell_type": "code",
   "execution_count": 27,
   "id": "d90caba0",
   "metadata": {},
   "outputs": [
    {
     "data": {
      "text/plain": [
       "\u001b[36mres26\u001b[39m: \u001b[32mString\u001b[39m = \u001b[32m\"abc\"\u001b[39m"
      ]
     },
     "execution_count": 27,
     "metadata": {},
     "output_type": "execute_result"
    }
   ],
   "source": [
    "sum(List(\"a\", \"b\", \"c\"))"
   ]
  },
  {
   "cell_type": "markdown",
   "id": "ebb1c353",
   "metadata": {},
   "source": [
    "You can still provide diﬀerent monoid directly to the function. We\n",
    "could provide an instance of monoid for Int using multiplications."
   ]
  },
  {
   "cell_type": "code",
   "execution_count": 12,
   "id": "8d13c5fc",
   "metadata": {},
   "outputs": [
    {
     "data": {
      "text/plain": [
       "\u001b[36mmultiMonoid\u001b[39m: \u001b[32mMonoid\u001b[39m[\u001b[32mInt\u001b[39m] = ammonite.$sess.cmd11$Helper$$anon$1@d82c673\n",
       "\u001b[36mres11_1\u001b[39m: \u001b[32mInt\u001b[39m = \u001b[32m24\u001b[39m"
      ]
     },
     "execution_count": 12,
     "metadata": {},
     "output_type": "execute_result"
    }
   ],
   "source": [
    "val multiMonoid: Monoid[Int] = new Monoid[Int] {\n",
    "    def mappend(a: Int, b: Int): Int = a * b\n",
    "    def mzero: Int = 1\n",
    "}\n",
    "\n",
    "sum(List(1, 2, 3, 4))(multiMonoid)"
   ]
  },
  {
   "cell_type": "code",
   "execution_count": 29,
   "id": "b99c7d0e",
   "metadata": {},
   "outputs": [
    {
     "data": {
      "text/plain": [
       "\u001b[36mres28\u001b[39m: \u001b[32mDouble\u001b[39m = \u001b[32m10.0\u001b[39m"
      ]
     },
     "execution_count": 29,
     "metadata": {},
     "output_type": "execute_result"
    }
   ],
   "source": [
    "sum(List(1.0,2.0,3.0,4.0))"
   ]
  },
  {
   "cell_type": "code",
   "execution_count": 30,
   "id": "3c47de82",
   "metadata": {},
   "outputs": [
    {
     "data": {
      "text/plain": [
       "\u001b[36mdoubleMulti\u001b[39m: \u001b[32mMonoid\u001b[39m[\u001b[32mDouble\u001b[39m] = ammonite.$sess.cmd29$Helper$$anon$1@1684d95a\n",
       "\u001b[36mres29_1\u001b[39m: \u001b[32mDouble\u001b[39m = \u001b[32m24.0\u001b[39m"
      ]
     },
     "execution_count": 30,
     "metadata": {},
     "output_type": "execute_result"
    }
   ],
   "source": [
    "val doubleMulti: Monoid[Double] = new Monoid[Double] {\n",
    "    def mappend(a: Double, b: Double): Double = a * b\n",
    "    def mzero: Double = 1.0\n",
    "}\n",
    "\n",
    "sum(List(1.0,2.0,3.0,4.0))(doubleMulti)"
   ]
  },
  {
   "cell_type": "markdown",
   "id": "ff5fe557",
   "metadata": {},
   "source": [
    "## FoldLeft"
   ]
  },
  {
   "cell_type": "code",
   "execution_count": 13,
   "id": "cdaa9067",
   "metadata": {},
   "outputs": [
    {
     "data": {
      "text/plain": [
       "defined \u001b[32mobject\u001b[39m \u001b[36mFoldLeftList\u001b[39m\n",
       "defined \u001b[32mfunction\u001b[39m \u001b[36msum\u001b[39m"
      ]
     },
     "execution_count": 13,
     "metadata": {},
     "output_type": "execute_result"
    }
   ],
   "source": [
    "object FoldLeftList {\n",
    "    def foldLeft[A, B](xs: List[A], b: B, f: (B, A) => B) = xs.foldLeft(b)(f)\n",
    "}\n",
    "\n",
    "def sum[A: Monoid](xs: List[A]): A = {\n",
    "    val m = implicitly[Monoid[A]]\n",
    "    FoldLeftList.foldLeft(xs, m.mzero, m.mappend)\n",
    "}"
   ]
  },
  {
   "cell_type": "code",
   "execution_count": 14,
   "id": "9d56f5ad",
   "metadata": {},
   "outputs": [
    {
     "data": {
      "text/plain": [
       "\u001b[36mres13\u001b[39m: \u001b[32mInt\u001b[39m = \u001b[32m10\u001b[39m"
      ]
     },
     "execution_count": 14,
     "metadata": {},
     "output_type": "execute_result"
    }
   ],
   "source": [
    "sum(List(1, 2, 3, 4))"
   ]
  },
  {
   "cell_type": "code",
   "execution_count": 15,
   "id": "e8c72b44",
   "metadata": {},
   "outputs": [
    {
     "data": {
      "text/plain": [
       "\u001b[36mres14\u001b[39m: \u001b[32mString\u001b[39m = \u001b[32m\"abc\"\u001b[39m"
      ]
     },
     "execution_count": 15,
     "metadata": {},
     "output_type": "execute_result"
    }
   ],
   "source": [
    "sum(List(\"a\", \"b\", \"c\"))"
   ]
  },
  {
   "cell_type": "code",
   "execution_count": 16,
   "id": "df65c5ed",
   "metadata": {},
   "outputs": [
    {
     "data": {
      "text/plain": [
       "\u001b[36mres15\u001b[39m: \u001b[32mInt\u001b[39m = \u001b[32m24\u001b[39m"
      ]
     },
     "execution_count": 16,
     "metadata": {},
     "output_type": "execute_result"
    }
   ],
   "source": [
    "sum(List(1, 2, 3, 4))(multiMonoid)"
   ]
  },
  {
   "cell_type": "markdown",
   "id": "e0d8beb1",
   "metadata": {},
   "source": [
    "## Monoid 6"
   ]
  },
  {
   "cell_type": "code",
   "execution_count": 17,
   "id": "fc98d9c4",
   "metadata": {},
   "outputs": [
    {
     "data": {
      "text/plain": [
       "defined \u001b[32mtrait\u001b[39m \u001b[36mFoldLeft\u001b[39m\n",
       "defined \u001b[32mobject\u001b[39m \u001b[36mFoldLeft\u001b[39m\n",
       "defined \u001b[32mfunction\u001b[39m \u001b[36msum\u001b[39m"
      ]
     },
     "execution_count": 17,
     "metadata": {},
     "output_type": "execute_result"
    }
   ],
   "source": [
    "trait FoldLeft[F[_]] {\n",
    "    def foldLeft[A, B](xs: F[A], b: B, f: (B, A) => B): B\n",
    "}\n",
    "\n",
    "object FoldLeft {\n",
    "    implicit val FoldLeftList: FoldLeft[List] = new FoldLeft[List] {\n",
    "    def foldLeft[A, B](xs: List[A], b: B, f: (B, A) => B) = xs.foldLeft(b)(f)\n",
    "    }\n",
    "}\n",
    "\n",
    "def sum[M[_]: FoldLeft, A: Monoid](xs: M[A]): A = {\n",
    "    val m = implicitly[Monoid[A]]\n",
    "    val fl = implicitly[FoldLeft[M]]\n",
    "    fl.foldLeft(xs, m.mzero, m.mappend)\n",
    "}"
   ]
  },
  {
   "cell_type": "code",
   "execution_count": 18,
   "id": "55f8a331",
   "metadata": {},
   "outputs": [
    {
     "data": {
      "text/plain": [
       "\u001b[36mres17\u001b[39m: \u001b[32mInt\u001b[39m = \u001b[32m10\u001b[39m"
      ]
     },
     "execution_count": 18,
     "metadata": {},
     "output_type": "execute_result"
    }
   ],
   "source": [
    "sum(List(1, 2, 3, 4))"
   ]
  },
  {
   "cell_type": "code",
   "execution_count": 19,
   "id": "2617a2e4",
   "metadata": {},
   "outputs": [
    {
     "data": {
      "text/plain": [
       "\u001b[36mres18\u001b[39m: \u001b[32mString\u001b[39m = \u001b[32m\"abc\"\u001b[39m"
      ]
     },
     "execution_count": 19,
     "metadata": {},
     "output_type": "execute_result"
    }
   ],
   "source": [
    "sum(List(\"a\", \"b\", \"c\"))"
   ]
  },
  {
   "cell_type": "markdown",
   "id": "8f0979a4",
   "metadata": {},
   "source": [
    "## Method injection (enrich my library)"
   ]
  },
  {
   "cell_type": "code",
   "execution_count": 20,
   "id": "faac1c22",
   "metadata": {},
   "outputs": [
    {
     "data": {
      "text/plain": [
       "defined \u001b[32mtrait\u001b[39m \u001b[36mMonoidOp\u001b[39m"
      ]
     },
     "execution_count": 20,
     "metadata": {},
     "output_type": "execute_result"
    }
   ],
   "source": [
    "trait MonoidOp[A] {\n",
    "    val F: Monoid[A]\n",
    "    val value: A\n",
    "    def |+|(a2: A) = F.mappend(value, a2)\n",
    "}\n",
    "\n"
   ]
  },
  {
   "cell_type": "code",
   "execution_count": 21,
   "id": "e72d39cd",
   "metadata": {},
   "outputs": [
    {
     "data": {
      "text/plain": [
       "defined \u001b[32mfunction\u001b[39m \u001b[36mtoMonoidOp\u001b[39m"
      ]
     },
     "execution_count": 21,
     "metadata": {},
     "output_type": "execute_result"
    }
   ],
   "source": [
    "implicit def toMonoidOp[A: Monoid](a: A): MonoidOp[A] = new MonoidOp[A] {\n",
    "    val F = implicitly[Monoid[A]]\n",
    "    val value = a\n",
    "}"
   ]
  },
  {
   "cell_type": "code",
   "execution_count": 22,
   "id": "522be7b2",
   "metadata": {},
   "outputs": [
    {
     "data": {
      "text/plain": [
       "\u001b[36mres21\u001b[39m: \u001b[32mInt\u001b[39m = \u001b[32m7\u001b[39m"
      ]
     },
     "execution_count": 22,
     "metadata": {},
     "output_type": "execute_result"
    }
   ],
   "source": [
    "3 |+| 4"
   ]
  },
  {
   "cell_type": "code",
   "execution_count": 23,
   "id": "467f1436",
   "metadata": {},
   "outputs": [
    {
     "data": {
      "text/plain": [
       "\u001b[36mres22\u001b[39m: \u001b[32mString\u001b[39m = \u001b[32m\"abcd\"\u001b[39m"
      ]
     },
     "execution_count": 23,
     "metadata": {},
     "output_type": "execute_result"
    }
   ],
   "source": [
    "\"ab\" |+| \"cd\""
   ]
  },
  {
   "cell_type": "code",
   "execution_count": 33,
   "id": "932823f8",
   "metadata": {},
   "outputs": [
    {
     "data": {
      "text/plain": [
       "defined \u001b[32mfunction\u001b[39m \u001b[36mmultImplicit\u001b[39m\n",
       "\u001b[36mz\u001b[39m: \u001b[32mInt\u001b[39m = \u001b[32m6\u001b[39m\n",
       "\u001b[36mres32_2\u001b[39m: \u001b[32mInt\u001b[39m = \u001b[32m24\u001b[39m"
      ]
     },
     "execution_count": 33,
     "metadata": {},
     "output_type": "execute_result"
    }
   ],
   "source": [
    "def multImplicit(x: Int)(implicit y: Int) = x * y\n",
    "implicit val z: Int = 6\n",
    "multImplicit(4)"
   ]
  },
  {
   "cell_type": "code",
   "execution_count": null,
   "id": "11eb0ae5",
   "metadata": {},
   "outputs": [],
   "source": []
  }
 ],
 "metadata": {
  "kernelspec": {
   "display_name": "Scala (2.13)",
   "language": "scala",
   "name": "scala213"
  },
  "language_info": {
   "codemirror_mode": "text/x-scala",
   "file_extension": ".sc",
   "mimetype": "text/x-scala",
   "name": "scala",
   "nbconvert_exporter": "script",
   "version": "2.13.10"
  }
 },
 "nbformat": 4,
 "nbformat_minor": 5
}
